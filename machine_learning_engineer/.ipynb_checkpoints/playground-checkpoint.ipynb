{
 "cells": [
  {
   "cell_type": "code",
   "execution_count": 17,
   "metadata": {},
   "outputs": [],
   "source": [
    "import numpy as np\n",
    "from tensorflow import keras\n",
    "\n",
    "def inference_image(im_fn, model = None):\n",
    "    if model is None:\n",
    "        model = keras.applications.resnet50.ResNet50(weights='imagenet')\n",
    "    img = keras.preprocessing.image.load_img(im_fn, target_size=(224, 224))\n",
    "    x = keras.preprocessing.image.img_to_array(img)\n",
    "    x = np.expand_dims(x, axis=0)\n",
    "    x = keras.applications.resnet50.preprocess_input(x)\n",
    "    preds = model.predict(x)\n",
    "    dpred = keras.applications.resnet50.decode_predictions(preds, top=3)[0]\n",
    "    print('Predicted:', dpred)\n",
    "    return dpred"
   ]
  },
  {
   "cell_type": "code",
   "execution_count": 18,
   "metadata": {},
   "outputs": [
    {
     "name": "stdout",
     "output_type": "stream",
     "text": [
      "Predicted: [('n06596364', 'comic_book', 0.5302627), ('n02916936', 'bulletproof_vest', 0.048961207), ('n03759954', 'microphone', 0.030581838)]\n"
     ]
    },
    {
     "data": {
      "text/plain": [
       "[('n06596364', 'comic_book', 0.5302627),\n",
       " ('n02916936', 'bulletproof_vest', 0.048961207),\n",
       " ('n03759954', 'microphone', 0.030581838)]"
      ]
     },
     "execution_count": 18,
     "metadata": {},
     "output_type": "execute_result"
    }
   ],
   "source": [
    "inference_image(img_path, model)"
   ]
  }
 ],
 "metadata": {
  "kernelspec": {
   "display_name": "Python 3",
   "language": "python",
   "name": "python3"
  },
  "language_info": {
   "codemirror_mode": {
    "name": "ipython",
    "version": 3
   },
   "file_extension": ".py",
   "mimetype": "text/x-python",
   "name": "python",
   "nbconvert_exporter": "python",
   "pygments_lexer": "ipython3",
   "version": "3.7.4"
  }
 },
 "nbformat": 4,
 "nbformat_minor": 4
}
