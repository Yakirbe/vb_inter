{
 "cells": [
  {
   "cell_type": "markdown",
   "metadata": {},
   "source": [
    "## vBrand machine learning interview\n",
    "### Instructions\n",
    "\n",
    "Build image inference micro-service based on provided inference code.\\\n",
    "Inference code recieves image path and keras inference model, and returns labels + confidence levels of image label.\n",
    "\n",
    "Your mission is to wrap this code in the following way:\n",
    "\n",
    "Build listener wrapper to the inference code.\\\n",
    "This listener will track a directory called \"data_in\".\\\n",
    "Any image inserted to the directory will be processed by the inference code.\n",
    "\n",
    "The app should constantly update a csv file called \"results.csv\" with the following columns:\n",
    " - timestamp\n",
    " - image_path\n",
    " - result\n",
    " \n",
    "An example of results.csv file is provided in this directory.\\\n",
    "Also provided here an example of image inference code usage.\\\n",
    "\n",
    "# GOOD LUCK!"
   ]
  },
  {
   "cell_type": "code",
   "execution_count": 2,
   "metadata": {},
   "outputs": [],
   "source": [
    "from inference_code import inference_image\n",
    "from tensorflow import keras"
   ]
  },
  {
   "cell_type": "code",
   "execution_count": 3,
   "metadata": {},
   "outputs": [
    {
     "name": "stdout",
     "output_type": "stream",
     "text": [
      "Predicted: [('n06596364', 'comic_book', 0.41177815), ('n02916936', 'bulletproof_vest', 0.21566673), ('n02895154', 'breastplate', 0.04504104)]\n"
     ]
    }
   ],
   "source": [
    "im_fn = \"raw_images/cologne-1561569287504-img0000011.jpg\"\n",
    "model = keras.applications.resnet50.ResNet50(weights='imagenet') \n",
    "res = inference_image(im_fn, model)"
   ]
  },
  {
   "cell_type": "code",
   "execution_count": 4,
   "metadata": {},
   "outputs": [
    {
     "data": {
      "text/plain": [
       "[('n06596364', 'comic_book', 0.41177815),\n",
       " ('n02916936', 'bulletproof_vest', 0.21566673),\n",
       " ('n02895154', 'breastplate', 0.04504104)]"
      ]
     },
     "execution_count": 4,
     "metadata": {},
     "output_type": "execute_result"
    }
   ],
   "source": [
    "res"
   ]
  }
 ],
 "metadata": {
  "kernelspec": {
   "display_name": "Python 3",
   "language": "python",
   "name": "python3"
  },
  "language_info": {
   "codemirror_mode": {
    "name": "ipython",
    "version": 3
   },
   "file_extension": ".py",
   "mimetype": "text/x-python",
   "name": "python",
   "nbconvert_exporter": "python",
   "pygments_lexer": "ipython3",
   "version": "3.7.4"
  }
 },
 "nbformat": 4,
 "nbformat_minor": 4
}
