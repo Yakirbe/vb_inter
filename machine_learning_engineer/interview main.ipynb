{
 "cells": [
  {
   "cell_type": "markdown",
   "metadata": {},
   "source": [
    "## vBrand machine learning interview\n",
    "### Instructions\n",
    "\n",
    "Build image inference micro-service based on provided inference code.\\\n",
    "Inference code recieves image path and keras inference model, and returns labels + confidence levels of image label.\n",
    "\n",
    "Your mission is to wrap this code in the following way:\n",
    "\n",
    "Build listener wrapper to the inference code.\\\n",
    "This listener will track a directory called \"data_in\".\\\n",
    "Any image inserted to the directory will be processed by the inference code.\n",
    "\n",
    "Input validation assertion is also required in the process.\n",
    "\n",
    "The app should constantly update a csv file called \"results.csv\" with the following columns:\n",
    " - timestamp\n",
    " - image_path\n",
    " - result\n",
    " \n",
    "An example of results.csv file is provided in this directory.\\\n",
    "Also provided here an example of image inference code usage.\n",
    "\n",
    "\n",
    "## Bonus\n",
    "\n",
    "Describe and implement performance considerations of this micro-service:\\\n",
    "How would you design it to run faster on same provided data and model.\n",
    "\n",
    "# GOOD LUCK!"
   ]
  },
  {
   "cell_type": "code",
   "execution_count": 1,
   "metadata": {
    "pycharm": {
     "is_executing": false
    }
   },
   "outputs": [],
   "source": [
    "from inference_code import inference_image\n",
    "from tensorflow import keras"
   ]
  },
  {
   "cell_type": "code",
   "execution_count": null,
   "metadata": {
    "pycharm": {
     "is_executing": true
    }
   },
   "outputs": [],
   "source": [
    "im_fn = \"raw_images/cologne-1561569287504-img0000011.jpg\"\n",
    "model = keras.applications.resnet50.ResNet50(weights='imagenet') \n",
    "res = inference_image(im_fn, model)"
   ]
  },
  {
   "cell_type": "code",
   "execution_count": null,
   "metadata": {
    "pycharm": {
     "is_executing": true
    }
   },
   "outputs": [],
   "source": [
    "res"
   ]
  }
 ],
 "metadata": {
  "kernelspec": {
   "name": "pycharm-2ce1475a",
   "language": "python",
   "display_name": "PyCharm (vb_inter)"
  },
  "language_info": {
   "codemirror_mode": {
    "name": "ipython",
    "version": 3
   },
   "file_extension": ".py",
   "mimetype": "text/x-python",
   "name": "python",
   "nbconvert_exporter": "python",
   "pygments_lexer": "ipython3",
   "version": "3.7.4"
  },
  "pycharm": {
   "stem_cell": {
    "cell_type": "raw",
    "source": [],
    "metadata": {
     "collapsed": false
    }
   }
  }
 },
 "nbformat": 4,
 "nbformat_minor": 4
}