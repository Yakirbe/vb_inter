{
 "cells": [
  {
   "cell_type": "markdown",
   "metadata": {},
   "source": [
    "## vBrand machine learning interview\n",
    "### Instructions\n",
    "\n",
    "Build image inference microservice based on provided inference code.\\\n",
    "Inference code recieves image path and keras inference model, and returns labels + confidence levels of image label.\n",
    "\n",
    "Your mission is to wrap this code in the following way:\n",
    "\n",
    "Build listener wrapper to the inference code.\\\n",
    "This listener will track a directory called \"data_in\".\\\n",
    "Any image inserted to the directory will be processed by the inference code.\n",
    "\n",
    "The app should constantly update a csv file called \"results.csv\" with the following columns:\n",
    " - timestamp\n",
    " - image_path\n",
    " - result\n",
    " \n",
    "An example is provided in this directory"
   ]
  },
  {
   "cell_type": "markdown",
   "metadata": {},
   "source": []
  },
  {
   "cell_type": "code",
   "execution_count": null,
   "metadata": {},
   "outputs": [],
   "source": []
  }
 ],
 "metadata": {
  "kernelspec": {
   "display_name": "Python 3",
   "language": "python",
   "name": "python3"
  },
  "language_info": {
   "codemirror_mode": {
    "name": "ipython",
    "version": 3
   },
   "file_extension": ".py",
   "mimetype": "text/x-python",
   "name": "python",
   "nbconvert_exporter": "python",
   "pygments_lexer": "ipython3",
   "version": "3.7.4"
  }
 },
 "nbformat": 4,
 "nbformat_minor": 4
}
