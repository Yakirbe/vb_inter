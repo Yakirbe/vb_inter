{
 "cells": [
  {
   "cell_type": "markdown",
   "metadata": {},
   "source": [
    "# vBrand algo interview exercise\n",
    "\n",
    "## Dear candidate,\n",
    "\n",
    "This is a vision data task taken.\n",
    "\n",
    "The data is an object detection dictionary based summary analysis of a video from vB engine.\n",
    "\n",
    "data format is assembled from images and their related ROIs.\n",
    "\n",
    "Each ROI is described by its bounds, class name and confidence score.\n",
    "\n",
    "Please fill the following sub-tasks:"
   ]
  },
  {
   "cell_type": "markdown",
   "metadata": {},
   "source": [
    "#### 1. get the data from data.result"
   ]
  },
  {
   "cell_type": "code",
   "execution_count": null,
   "metadata": {},
   "outputs": [],
   "source": []
  },
  {
   "cell_type": "markdown",
   "metadata": {},
   "source": [
    "#### 2. extract features for all ROIs in the video"
   ]
  },
  {
   "cell_type": "code",
   "execution_count": null,
   "metadata": {},
   "outputs": [],
   "source": []
  },
  {
   "cell_type": "markdown",
   "metadata": {},
   "source": [
    "#### 3. perform clustering on ROIs"
   ]
  },
  {
   "cell_type": "code",
   "execution_count": null,
   "metadata": {},
   "outputs": [],
   "source": []
  },
  {
   "cell_type": "markdown",
   "metadata": {},
   "source": [
    "#### 4. evaluate clustering results"
   ]
  },
  {
   "cell_type": "code",
   "execution_count": null,
   "metadata": {},
   "outputs": [],
   "source": []
  },
  {
   "cell_type": "markdown",
   "metadata": {},
   "source": [
    "#### 5. visualize clustering results"
   ]
  },
  {
   "cell_type": "code",
   "execution_count": null,
   "metadata": {},
   "outputs": [],
   "source": []
  },
  {
   "cell_type": "code",
   "execution_count": 2,
   "metadata": {
    "pycharm": {
     "is_executing": false
    }
   },
   "outputs": [],
   "source": [
    "import json\n",
    "import sklearn\n",
    "import cv2\n",
    "import wget\n",
    "\n",
    "import pandas as pd\n",
    "import numpy as np\n",
    "import matplotlib.pyplot as plt\n",
    "%matplotlib inline\n",
    "from skimage.io import imread, imshow"
   ]
  },
  {
   "cell_type": "code",
   "execution_count": 3,
   "metadata": {
    "pycharm": {
     "is_executing": false
    }
   },
   "outputs": [],
   "source": [
    "with open(\"data.result\") as f:\n",
    "    data = json.loads(f.read())"
   ]
  },
  {
   "cell_type": "code",
   "execution_count": 3,
   "metadata": {
    "pycharm": {
     "is_executing": false,
     "name": "#%%\n"
    },
    "scrolled": true
   },
   "outputs": [
    {
     "data": {
      "text/html": [
       "<div>\n",
       "<style scoped>\n",
       "    .dataframe tbody tr th:only-of-type {\n",
       "        vertical-align: middle;\n",
       "    }\n",
       "\n",
       "    .dataframe tbody tr th {\n",
       "        vertical-align: top;\n",
       "    }\n",
       "\n",
       "    .dataframe thead th {\n",
       "        text-align: right;\n",
       "    }\n",
       "</style>\n",
       "<table border=\"1\" class=\"dataframe\">\n",
       "  <thead>\n",
       "    <tr style=\"text-align: right;\">\n",
       "      <th></th>\n",
       "      <th>flat_tag_list</th>\n",
       "      <th>imgurl</th>\n",
       "      <th>classes</th>\n",
       "      <th>time</th>\n",
       "    </tr>\n",
       "  </thead>\n",
       "  <tbody>\n",
       "    <tr>\n",
       "      <th>0</th>\n",
       "      <td>[new_class (0.7944), new_class (0.7913), new_c...</td>\n",
       "      <td>https://videosframes.blob.core.windows.net/156...</td>\n",
       "      <td>[{'class_name': 'new_class (0.6844)', 'blur': ...</td>\n",
       "      <td>0:00:00.0</td>\n",
       "    </tr>\n",
       "    <tr>\n",
       "      <th>1</th>\n",
       "      <td>[new_class (0.8154), new_class (0.7922), new_c...</td>\n",
       "      <td>https://videosframes.blob.core.windows.net/156...</td>\n",
       "      <td>[{'class_name': 'new_class (0.6573)', 'blur': ...</td>\n",
       "      <td>0:00:01.0</td>\n",
       "    </tr>\n",
       "    <tr>\n",
       "      <th>2</th>\n",
       "      <td>[new_class (0.8178), new_class (0.8062), new_c...</td>\n",
       "      <td>https://videosframes.blob.core.windows.net/156...</td>\n",
       "      <td>[{'class_name': 'new_class (0.675)', 'blur': 0...</td>\n",
       "      <td>0:00:02.0</td>\n",
       "    </tr>\n",
       "    <tr>\n",
       "      <th>3</th>\n",
       "      <td>[new_class (0.8219), new_class (0.7853), new_c...</td>\n",
       "      <td>https://videosframes.blob.core.windows.net/156...</td>\n",
       "      <td>[{'class_name': 'new_class (0.6154)', 'blur': ...</td>\n",
       "      <td>0:00:03.0</td>\n",
       "    </tr>\n",
       "    <tr>\n",
       "      <th>4</th>\n",
       "      <td>[new_class (0.7863), new_class (0.7596), new_c...</td>\n",
       "      <td>https://videosframes.blob.core.windows.net/156...</td>\n",
       "      <td>[{'class_name': 'new_class (0.5201)', 'blur': ...</td>\n",
       "      <td>0:00:04.0</td>\n",
       "    </tr>\n",
       "    <tr>\n",
       "      <th>...</th>\n",
       "      <td>...</td>\n",
       "      <td>...</td>\n",
       "      <td>...</td>\n",
       "      <td>...</td>\n",
       "    </tr>\n",
       "    <tr>\n",
       "      <th>129</th>\n",
       "      <td>[new_class (0.7918), new_class (0.79), new_cla...</td>\n",
       "      <td>https://videosframes.blob.core.windows.net/156...</td>\n",
       "      <td>[{'class_name': 'new_class (0.79)', 'blur': 1,...</td>\n",
       "      <td>0:02:19.0</td>\n",
       "    </tr>\n",
       "    <tr>\n",
       "      <th>130</th>\n",
       "      <td>[new_class (0.7926), new_class (0.7044), new_c...</td>\n",
       "      <td>https://videosframes.blob.core.windows.net/156...</td>\n",
       "      <td>[{'class_name': 'new_class (0.6694)', 'blur': ...</td>\n",
       "      <td>0:02:20.0</td>\n",
       "    </tr>\n",
       "    <tr>\n",
       "      <th>131</th>\n",
       "      <td>[new_class (0.9558), new_class (0.8769), new_c...</td>\n",
       "      <td>https://videosframes.blob.core.windows.net/156...</td>\n",
       "      <td>[{'class_name': 'new_class (0.7141)', 'blur': ...</td>\n",
       "      <td>0:02:21.0</td>\n",
       "    </tr>\n",
       "    <tr>\n",
       "      <th>132</th>\n",
       "      <td>[new_class (0.8539), new_class (0.853), new_cl...</td>\n",
       "      <td>https://videosframes.blob.core.windows.net/156...</td>\n",
       "      <td>[{'class_name': 'new_class (0.6708)', 'blur': ...</td>\n",
       "      <td>0:02:22.0</td>\n",
       "    </tr>\n",
       "    <tr>\n",
       "      <th>133</th>\n",
       "      <td>[new_class (0.8089), new_class (0.773), new_cl...</td>\n",
       "      <td>https://videosframes.blob.core.windows.net/156...</td>\n",
       "      <td>[{'class_name': 'new_class (0.6882)', 'blur': ...</td>\n",
       "      <td>0:02:23.0</td>\n",
       "    </tr>\n",
       "  </tbody>\n",
       "</table>\n",
       "<p>134 rows × 4 columns</p>\n",
       "</div>"
      ],
      "text/plain": [
       "                                         flat_tag_list  \\\n",
       "0    [new_class (0.7944), new_class (0.7913), new_c...   \n",
       "1    [new_class (0.8154), new_class (0.7922), new_c...   \n",
       "2    [new_class (0.8178), new_class (0.8062), new_c...   \n",
       "3    [new_class (0.8219), new_class (0.7853), new_c...   \n",
       "4    [new_class (0.7863), new_class (0.7596), new_c...   \n",
       "..                                                 ...   \n",
       "129  [new_class (0.7918), new_class (0.79), new_cla...   \n",
       "130  [new_class (0.7926), new_class (0.7044), new_c...   \n",
       "131  [new_class (0.9558), new_class (0.8769), new_c...   \n",
       "132  [new_class (0.8539), new_class (0.853), new_cl...   \n",
       "133  [new_class (0.8089), new_class (0.773), new_cl...   \n",
       "\n",
       "                                                imgurl  \\\n",
       "0    https://videosframes.blob.core.windows.net/156...   \n",
       "1    https://videosframes.blob.core.windows.net/156...   \n",
       "2    https://videosframes.blob.core.windows.net/156...   \n",
       "3    https://videosframes.blob.core.windows.net/156...   \n",
       "4    https://videosframes.blob.core.windows.net/156...   \n",
       "..                                                 ...   \n",
       "129  https://videosframes.blob.core.windows.net/156...   \n",
       "130  https://videosframes.blob.core.windows.net/156...   \n",
       "131  https://videosframes.blob.core.windows.net/156...   \n",
       "132  https://videosframes.blob.core.windows.net/156...   \n",
       "133  https://videosframes.blob.core.windows.net/156...   \n",
       "\n",
       "                                               classes       time  \n",
       "0    [{'class_name': 'new_class (0.6844)', 'blur': ...  0:00:00.0  \n",
       "1    [{'class_name': 'new_class (0.6573)', 'blur': ...  0:00:01.0  \n",
       "2    [{'class_name': 'new_class (0.675)', 'blur': 0...  0:00:02.0  \n",
       "3    [{'class_name': 'new_class (0.6154)', 'blur': ...  0:00:03.0  \n",
       "4    [{'class_name': 'new_class (0.5201)', 'blur': ...  0:00:04.0  \n",
       "..                                                 ...        ...  \n",
       "129  [{'class_name': 'new_class (0.79)', 'blur': 1,...  0:02:19.0  \n",
       "130  [{'class_name': 'new_class (0.6694)', 'blur': ...  0:02:20.0  \n",
       "131  [{'class_name': 'new_class (0.7141)', 'blur': ...  0:02:21.0  \n",
       "132  [{'class_name': 'new_class (0.6708)', 'blur': ...  0:02:22.0  \n",
       "133  [{'class_name': 'new_class (0.6882)', 'blur': ...  0:02:23.0  \n",
       "\n",
       "[134 rows x 4 columns]"
      ]
     },
     "execution_count": 3,
     "metadata": {},
     "output_type": "execute_result"
    }
   ],
   "source": [
    "df = pd.DataFrame(data[\"data\"][\"timebased_classes_found\"])\n",
    "df"
   ]
  },
  {
   "cell_type": "code",
   "execution_count": 4,
   "metadata": {},
   "outputs": [
    {
     "name": "stdout",
     "output_type": "stream",
     "text": [
      "/Users/yak/PycharmProjects/code/vb_inter/data\n"
     ]
    }
   ],
   "source": [
    "cd data/"
   ]
  },
  {
   "cell_type": "code",
   "execution_count": 6,
   "metadata": {
    "scrolled": true
   },
   "outputs": [
    {
     "name": "stdout",
     "output_type": "stream",
     "text": [
      "https://videosframes.blob.core.windows.net/1561569287504/cologne-1561569287504-img0000001.jpg\n",
      "https://videosframes.blob.core.windows.net/1561569287504/cologne-1561569287504-img0000011.jpg\n",
      "https://videosframes.blob.core.windows.net/1561569287504/cologne-1561569287504-img0000021.jpg\n",
      "https://videosframes.blob.core.windows.net/1561569287504/cologne-1561569287504-img0000031.jpg\n",
      "https://videosframes.blob.core.windows.net/1561569287504/cologne-1561569287504-img0000041.jpg\n",
      "https://videosframes.blob.core.windows.net/1561569287504/cologne-1561569287504-img0000051.jpg\n",
      "https://videosframes.blob.core.windows.net/1561569287504/cologne-1561569287504-img0000061.jpg\n",
      "https://videosframes.blob.core.windows.net/1561569287504/cologne-1561569287504-img0000071.jpg\n",
      "https://videosframes.blob.core.windows.net/1561569287504/cologne-1561569287504-img0000081.jpg\n",
      "https://videosframes.blob.core.windows.net/1561569287504/cologne-1561569287504-img0000091.jpg\n",
      "https://videosframes.blob.core.windows.net/1561569287504/cologne-1561569287504-img0000101.jpg\n",
      "https://videosframes.blob.core.windows.net/1561569287504/cologne-1561569287504-img0000111.jpg\n",
      "https://videosframes.blob.core.windows.net/1561569287504/cologne-1561569287504-img0000121.jpg\n",
      "https://videosframes.blob.core.windows.net/1561569287504/cologne-1561569287504-img0000131.jpg\n",
      "https://videosframes.blob.core.windows.net/1561569287504/cologne-1561569287504-img0000141.jpg\n",
      "https://videosframes.blob.core.windows.net/1561569287504/cologne-1561569287504-img0000151.jpg\n",
      "https://videosframes.blob.core.windows.net/1561569287504/cologne-1561569287504-img0000161.jpg\n",
      "https://videosframes.blob.core.windows.net/1561569287504/cologne-1561569287504-img0000171.jpg\n",
      "https://videosframes.blob.core.windows.net/1561569287504/cologne-1561569287504-img0000181.jpg\n",
      "https://videosframes.blob.core.windows.net/1561569287504/cologne-1561569287504-img0000191.jpg\n",
      "https://videosframes.blob.core.windows.net/1561569287504/cologne-1561569287504-img0000201.jpg\n",
      "https://videosframes.blob.core.windows.net/1561569287504/cologne-1561569287504-img0000211.jpg\n",
      "https://videosframes.blob.core.windows.net/1561569287504/cologne-1561569287504-img0000221.jpg\n",
      "https://videosframes.blob.core.windows.net/1561569287504/cologne-1561569287504-img0000231.jpg\n",
      "https://videosframes.blob.core.windows.net/1561569287504/cologne-1561569287504-img0000241.jpg\n",
      "https://videosframes.blob.core.windows.net/1561569287504/cologne-1561569287504-img0000251.jpg\n",
      "https://videosframes.blob.core.windows.net/1561569287504/cologne-1561569287504-img0000261.jpg\n",
      "https://videosframes.blob.core.windows.net/1561569287504/cologne-1561569287504-img0000271.jpg\n",
      "https://videosframes.blob.core.windows.net/1561569287504/cologne-1561569287504-img0000281.jpg\n",
      "https://videosframes.blob.core.windows.net/1561569287504/cologne-1561569287504-img0000291.jpg\n",
      "https://videosframes.blob.core.windows.net/1561569287504/cologne-1561569287504-img0000301.jpg\n",
      "https://videosframes.blob.core.windows.net/1561569287504/cologne-1561569287504-img0000311.jpg\n",
      "https://videosframes.blob.core.windows.net/1561569287504/cologne-1561569287504-img0000321.jpg\n",
      "https://videosframes.blob.core.windows.net/1561569287504/cologne-1561569287504-img0000331.jpg\n",
      "https://videosframes.blob.core.windows.net/1561569287504/cologne-1561569287504-img0000341.jpg\n",
      "https://videosframes.blob.core.windows.net/1561569287504/cologne-1561569287504-img0000351.jpg\n",
      "https://videosframes.blob.core.windows.net/1561569287504/cologne-1561569287504-img0000361.jpg\n",
      "https://videosframes.blob.core.windows.net/1561569287504/cologne-1561569287504-img0000371.jpg\n",
      "https://videosframes.blob.core.windows.net/1561569287504/cologne-1561569287504-img0000381.jpg\n",
      "https://videosframes.blob.core.windows.net/1561569287504/cologne-1561569287504-img0000391.jpg\n",
      "https://videosframes.blob.core.windows.net/1561569287504/cologne-1561569287504-img0000401.jpg\n",
      "https://videosframes.blob.core.windows.net/1561569287504/cologne-1561569287504-img0000411.jpg\n",
      "https://videosframes.blob.core.windows.net/1561569287504/cologne-1561569287504-img0000421.jpg\n",
      "https://videosframes.blob.core.windows.net/1561569287504/cologne-1561569287504-img0000431.jpg\n",
      "https://videosframes.blob.core.windows.net/1561569287504/cologne-1561569287504-img0000451.jpg\n",
      "https://videosframes.blob.core.windows.net/1561569287504/cologne-1561569287504-img0000461.jpg\n",
      "https://videosframes.blob.core.windows.net/1561569287504/cologne-1561569287504-img0000471.jpg\n",
      "https://videosframes.blob.core.windows.net/1561569287504/cologne-1561569287504-img0000481.jpg\n",
      "https://videosframes.blob.core.windows.net/1561569287504/cologne-1561569287504-img0000491.jpg\n",
      "https://videosframes.blob.core.windows.net/1561569287504/cologne-1561569287504-img0000501.jpg\n",
      "https://videosframes.blob.core.windows.net/1561569287504/cologne-1561569287504-img0000511.jpg\n",
      "https://videosframes.blob.core.windows.net/1561569287504/cologne-1561569287504-img0000521.jpg\n",
      "https://videosframes.blob.core.windows.net/1561569287504/cologne-1561569287504-img0000531.jpg\n",
      "https://videosframes.blob.core.windows.net/1561569287504/cologne-1561569287504-img0000541.jpg\n",
      "https://videosframes.blob.core.windows.net/1561569287504/cologne-1561569287504-img0000551.jpg\n",
      "https://videosframes.blob.core.windows.net/1561569287504/cologne-1561569287504-img0000561.jpg\n",
      "https://videosframes.blob.core.windows.net/1561569287504/cologne-1561569287504-img0000601.jpg\n",
      "https://videosframes.blob.core.windows.net/1561569287504/cologne-1561569287504-img0000611.jpg\n",
      "https://videosframes.blob.core.windows.net/1561569287504/cologne-1561569287504-img0000621.jpg\n",
      "https://videosframes.blob.core.windows.net/1561569287504/cologne-1561569287504-img0000631.jpg\n",
      "https://videosframes.blob.core.windows.net/1561569287504/cologne-1561569287504-img0000641.jpg\n",
      "https://videosframes.blob.core.windows.net/1561569287504/cologne-1561569287504-img0000651.jpg\n",
      "https://videosframes.blob.core.windows.net/1561569287504/cologne-1561569287504-img0000661.jpg\n",
      "https://videosframes.blob.core.windows.net/1561569287504/cologne-1561569287504-img0000691.jpg\n",
      "https://videosframes.blob.core.windows.net/1561569287504/cologne-1561569287504-img0000701.jpg\n",
      "https://videosframes.blob.core.windows.net/1561569287504/cologne-1561569287504-img0000711.jpg\n",
      "https://videosframes.blob.core.windows.net/1561569287504/cologne-1561569287504-img0000721.jpg\n",
      "https://videosframes.blob.core.windows.net/1561569287504/cologne-1561569287504-img0000731.jpg\n",
      "https://videosframes.blob.core.windows.net/1561569287504/cologne-1561569287504-img0000741.jpg\n",
      "https://videosframes.blob.core.windows.net/1561569287504/cologne-1561569287504-img0000751.jpg\n",
      "https://videosframes.blob.core.windows.net/1561569287504/cologne-1561569287504-img0000761.jpg\n",
      "https://videosframes.blob.core.windows.net/1561569287504/cologne-1561569287504-img0000771.jpg\n",
      "https://videosframes.blob.core.windows.net/1561569287504/cologne-1561569287504-img0000781.jpg\n",
      "https://videosframes.blob.core.windows.net/1561569287504/cologne-1561569287504-img0000791.jpg\n",
      "https://videosframes.blob.core.windows.net/1561569287504/cologne-1561569287504-img0000821.jpg\n",
      "https://videosframes.blob.core.windows.net/1561569287504/cologne-1561569287504-img0000831.jpg\n",
      "https://videosframes.blob.core.windows.net/1561569287504/cologne-1561569287504-img0000841.jpg\n",
      "https://videosframes.blob.core.windows.net/1561569287504/cologne-1561569287504-img0000851.jpg\n",
      "https://videosframes.blob.core.windows.net/1561569287504/cologne-1561569287504-img0000861.jpg\n",
      "https://videosframes.blob.core.windows.net/1561569287504/cologne-1561569287504-img0000871.jpg\n",
      "https://videosframes.blob.core.windows.net/1561569287504/cologne-1561569287504-img0000881.jpg\n",
      "https://videosframes.blob.core.windows.net/1561569287504/cologne-1561569287504-img0000891.jpg\n",
      "https://videosframes.blob.core.windows.net/1561569287504/cologne-1561569287504-img0000901.jpg\n",
      "https://videosframes.blob.core.windows.net/1561569287504/cologne-1561569287504-img0000911.jpg\n",
      "https://videosframes.blob.core.windows.net/1561569287504/cologne-1561569287504-img0000921.jpg\n",
      "https://videosframes.blob.core.windows.net/1561569287504/cologne-1561569287504-img0000931.jpg\n",
      "https://videosframes.blob.core.windows.net/1561569287504/cologne-1561569287504-img0000941.jpg\n",
      "https://videosframes.blob.core.windows.net/1561569287504/cologne-1561569287504-img0000951.jpg\n",
      "https://videosframes.blob.core.windows.net/1561569287504/cologne-1561569287504-img0000961.jpg\n",
      "https://videosframes.blob.core.windows.net/1561569287504/cologne-1561569287504-img0000971.jpg\n",
      "https://videosframes.blob.core.windows.net/1561569287504/cologne-1561569287504-img0000981.jpg\n",
      "https://videosframes.blob.core.windows.net/1561569287504/cologne-1561569287504-img0000991.jpg\n",
      "https://videosframes.blob.core.windows.net/1561569287504/cologne-1561569287504-img0001001.jpg\n",
      "https://videosframes.blob.core.windows.net/1561569287504/cologne-1561569287504-img0001011.jpg\n",
      "https://videosframes.blob.core.windows.net/1561569287504/cologne-1561569287504-img0001021.jpg\n",
      "https://videosframes.blob.core.windows.net/1561569287504/cologne-1561569287504-img0001031.jpg\n",
      "https://videosframes.blob.core.windows.net/1561569287504/cologne-1561569287504-img0001041.jpg\n",
      "https://videosframes.blob.core.windows.net/1561569287504/cologne-1561569287504-img0001051.jpg\n",
      "https://videosframes.blob.core.windows.net/1561569287504/cologne-1561569287504-img0001061.jpg\n",
      "https://videosframes.blob.core.windows.net/1561569287504/cologne-1561569287504-img0001071.jpg\n",
      "https://videosframes.blob.core.windows.net/1561569287504/cologne-1561569287504-img0001081.jpg\n",
      "https://videosframes.blob.core.windows.net/1561569287504/cologne-1561569287504-img0001091.jpg\n",
      "https://videosframes.blob.core.windows.net/1561569287504/cologne-1561569287504-img0001101.jpg\n",
      "https://videosframes.blob.core.windows.net/1561569287504/cologne-1561569287504-img0001111.jpg\n",
      "https://videosframes.blob.core.windows.net/1561569287504/cologne-1561569287504-img0001121.jpg\n",
      "https://videosframes.blob.core.windows.net/1561569287504/cologne-1561569287504-img0001131.jpg\n",
      "https://videosframes.blob.core.windows.net/1561569287504/cologne-1561569287504-img0001151.jpg\n",
      "https://videosframes.blob.core.windows.net/1561569287504/cologne-1561569287504-img0001161.jpg\n",
      "https://videosframes.blob.core.windows.net/1561569287504/cologne-1561569287504-img0001171.jpg\n",
      "https://videosframes.blob.core.windows.net/1561569287504/cologne-1561569287504-img0001181.jpg\n",
      "https://videosframes.blob.core.windows.net/1561569287504/cologne-1561569287504-img0001191.jpg\n",
      "https://videosframes.blob.core.windows.net/1561569287504/cologne-1561569287504-img0001201.jpg\n",
      "https://videosframes.blob.core.windows.net/1561569287504/cologne-1561569287504-img0001211.jpg\n",
      "https://videosframes.blob.core.windows.net/1561569287504/cologne-1561569287504-img0001221.jpg\n",
      "https://videosframes.blob.core.windows.net/1561569287504/cologne-1561569287504-img0001231.jpg\n",
      "https://videosframes.blob.core.windows.net/1561569287504/cologne-1561569287504-img0001241.jpg\n",
      "https://videosframes.blob.core.windows.net/1561569287504/cologne-1561569287504-img0001251.jpg\n",
      "https://videosframes.blob.core.windows.net/1561569287504/cologne-1561569287504-img0001261.jpg\n",
      "https://videosframes.blob.core.windows.net/1561569287504/cologne-1561569287504-img0001271.jpg\n",
      "https://videosframes.blob.core.windows.net/1561569287504/cologne-1561569287504-img0001281.jpg\n",
      "https://videosframes.blob.core.windows.net/1561569287504/cologne-1561569287504-img0001291.jpg\n",
      "https://videosframes.blob.core.windows.net/1561569287504/cologne-1561569287504-img0001301.jpg\n",
      "https://videosframes.blob.core.windows.net/1561569287504/cologne-1561569287504-img0001311.jpg\n",
      "https://videosframes.blob.core.windows.net/1561569287504/cologne-1561569287504-img0001331.jpg\n",
      "https://videosframes.blob.core.windows.net/1561569287504/cologne-1561569287504-img0001341.jpg\n",
      "https://videosframes.blob.core.windows.net/1561569287504/cologne-1561569287504-img0001351.jpg\n",
      "https://videosframes.blob.core.windows.net/1561569287504/cologne-1561569287504-img0001361.jpg\n",
      "https://videosframes.blob.core.windows.net/1561569287504/cologne-1561569287504-img0001371.jpg\n",
      "https://videosframes.blob.core.windows.net/1561569287504/cologne-1561569287504-img0001381.jpg\n",
      "https://videosframes.blob.core.windows.net/1561569287504/cologne-1561569287504-img0001391.jpg\n",
      "https://videosframes.blob.core.windows.net/1561569287504/cologne-1561569287504-img0001401.jpg\n",
      "https://videosframes.blob.core.windows.net/1561569287504/cologne-1561569287504-img0001411.jpg\n",
      "https://videosframes.blob.core.windows.net/1561569287504/cologne-1561569287504-img0001421.jpg\n",
      "https://videosframes.blob.core.windows.net/1561569287504/cologne-1561569287504-img0001431.jpg\n"
     ]
    }
   ],
   "source": [
    "for obj in data[\"data\"][\"timebased_classes_found\"]:\n",
    "    print(obj[\"imgurl\"])\n",
    "#     wget.download(obj[\"imgurl\"])"
   ]
  },
  {
   "cell_type": "code",
   "execution_count": 7,
   "metadata": {
    "scrolled": true
   },
   "outputs": [
    {
     "data": {
      "text/plain": [
       "[{'class_name': 'new_class (0.6882)',\n",
       "  'blur': 0.94,\n",
       "  'roi': [8, 465, 58, 47],\n",
       "  'id': 'ba5134952_889',\n",
       "  'tr_id': 5624,\n",
       "  'c': 13,\n",
       "  'c_inner_idx': 20},\n",
       " {'class_name': 'new_class (0.669)',\n",
       "  'blur': 0.95,\n",
       "  'roi': [13, 240, 85, 56],\n",
       "  'id': 'ba5134952_890',\n",
       "  'tr_id': 5814,\n",
       "  'c': 153,\n",
       "  'c_inner_idx': 1},\n",
       " {'class_name': 'new_class (0.6555)',\n",
       "  'blur': 1,\n",
       "  'roi': [18, 197, 78, 52],\n",
       "  'id': 'ba5134952_891',\n",
       "  'tr_id': 5926,\n",
       "  'c': 130,\n",
       "  'c_inner_idx': 18},\n",
       " {'class_name': 'new_class (0.7015)',\n",
       "  'blur': 1,\n",
       "  'roi': [24, 287, 77, 51],\n",
       "  'id': 'ba5134952_892',\n",
       "  'tr_id': 5925,\n",
       "  'c': 244,\n",
       "  'c_inner_idx': 19},\n",
       " {'class_name': 'new_class (0.7671)',\n",
       "  'blur': 1,\n",
       "  'roi': [25, 369, 70, 54],\n",
       "  'id': 'ba5134952_893',\n",
       "  'tr_id': 5755,\n",
       "  'c': 130,\n",
       "  'c_inner_idx': 16},\n",
       " {'class_name': 'new_class (0.5525)',\n",
       "  'blur': 1,\n",
       "  'roi': [30, 325, 72, 55],\n",
       "  'id': 'ba5134952_894',\n",
       "  'tr_id': 5930,\n",
       "  'c': 130,\n",
       "  'c_inner_idx': 19},\n",
       " {'class_name': 'new_class (0.773)',\n",
       "  'blur': 0.75,\n",
       "  'roi': [52, 462, 50, 39],\n",
       "  'id': 'ba5134952_895',\n",
       "  'tr_id': 5929,\n",
       "  'c': 21,\n",
       "  'c_inner_idx': 24},\n",
       " {'class_name': 'new_class (0.6258)',\n",
       "  'blur': 1,\n",
       "  'roi': [131, 395, 61, 69],\n",
       "  'id': 'ba5134952_896',\n",
       "  'tr_id': 5768,\n",
       "  'c': 64,\n",
       "  'c_inner_idx': 26},\n",
       " {'class_name': 'new_class (0.6108)',\n",
       "  'blur': 1,\n",
       "  'roi': [139, 233, 66, 53],\n",
       "  'id': 'ba5134952_897',\n",
       "  'tr_id': 5765,\n",
       "  'c': 64,\n",
       "  'c_inner_idx': 25},\n",
       " {'class_name': 'new_class (0.8089)',\n",
       "  'blur': 1,\n",
       "  'roi': [141, 268, 72, 53],\n",
       "  'id': 'ba5134952_898',\n",
       "  'tr_id': 5531,\n",
       "  'c': 244,\n",
       "  'c_inner_idx': 16},\n",
       " {'class_name': 'new_class (0.7099)',\n",
       "  'blur': 0.84,\n",
       "  'roi': [142, 460, 49, 52],\n",
       "  'id': 'ba5134952_899',\n",
       "  'tr_id': 5741,\n",
       "  'c': 21,\n",
       "  'c_inner_idx': 22},\n",
       " {'class_name': 'new_class (0.7306)',\n",
       "  'blur': 1,\n",
       "  'roi': [145, 304, 68, 67],\n",
       "  'id': 'ba5134952_900',\n",
       "  'tr_id': 5739,\n",
       "  'c': 137,\n",
       "  'c_inner_idx': 24},\n",
       " {'class_name': 'new_class (0.7696)',\n",
       "  'blur': 1,\n",
       "  'roi': [326, 379, 67, 82],\n",
       "  'id': 'ba5134952_901',\n",
       "  'tr_id': 5401,\n",
       "  'c': 219,\n",
       "  'c_inner_idx': 15},\n",
       " {'class_name': 'new_class (0.6095)',\n",
       "  'blur': 0.92,\n",
       "  'roi': [457, 341, 39, 42],\n",
       "  'id': 'ba5134952_902',\n",
       "  'tr_id': 5400,\n",
       "  'c': 203,\n",
       "  'c_inner_idx': 19}]"
      ]
     },
     "execution_count": 7,
     "metadata": {},
     "output_type": "execute_result"
    }
   ],
   "source": [
    "obj[\"classes\"]"
   ]
  },
  {
   "cell_type": "code",
   "execution_count": 8,
   "metadata": {},
   "outputs": [
    {
     "data": {
      "text/plain": [
       "<matplotlib.image.AxesImage at 0x1456c9610>"
      ]
     },
     "execution_count": 8,
     "metadata": {},
     "output_type": "execute_result"
    },
    {
     "data": {
      "image/png": "[encoded data removed]",
      "text/plain": [
       "<Figure size 432x288 with 1 Axes>"
      ]
     },
     "metadata": {
      "needs_background": "light"
     },
     "output_type": "display_data"
    }
   ],
   "source": [
    "im_fn = \"/Users/yak/Downloads/cologne-1561569287504-img0001411.jpg\"\n",
    "image = imread(im_fn)\n",
    "imshow(image)"
   ]
  },
  {
   "cell_type": "code",
   "execution_count": 19,
   "metadata": {},
   "outputs": [
    {
     "data": {
      "text/plain": [
       "(576, 720, 3)"
      ]
     },
     "execution_count": 19,
     "metadata": {},
     "output_type": "execute_result"
    }
   ],
   "source": [
    "image.shape"
   ]
  },
  {
   "cell_type": "code",
   "execution_count": 9,
   "metadata": {
    "scrolled": true
   },
   "outputs": [],
   "source": [
    "import torch\n",
    "import torch.nn as nn\n",
    "import torchvision.models as models\n",
    "import torchvision.transforms as transforms\n",
    "from torch.autograd import Variable\n",
    "from PIL import Image"
   ]
  },
  {
   "cell_type": "code",
   "execution_count": 10,
   "metadata": {},
   "outputs": [],
   "source": [
    "pic_one = \"/Users/yak/Downloads/cologne-1561569287504-img0001411.jpg\"\n",
    "pic_two = \"/Users/yak/Downloads/cologne-1561569287504-img0000081.jpg\""
   ]
  },
  {
   "cell_type": "code",
   "execution_count": 25,
   "metadata": {},
   "outputs": [],
   "source": [
    "# Load the pretrained model\n",
    "model = models.resnet18(pretrained=True)\n",
    "# Use the model object to select the desired layer\n",
    "layer = model._modules.get('avgpool')"
   ]
  },
  {
   "cell_type": "code",
   "execution_count": 26,
   "metadata": {
    "scrolled": true
   },
   "outputs": [
    {
     "data": {
      "text/plain": [
       "ResNet(\n",
       "  (conv1): Conv2d(3, 64, kernel_size=(7, 7), stride=(2, 2), padding=(3, 3), bias=False)\n",
       "  (bn1): BatchNorm2d(64, eps=1e-05, momentum=0.1, affine=True, track_running_stats=True)\n",
       "  (relu): ReLU(inplace=True)\n",
       "  (maxpool): MaxPool2d(kernel_size=3, stride=2, padding=1, dilation=1, ceil_mode=False)\n",
       "  (layer1): Sequential(\n",
       "    (0): BasicBlock(\n",
       "      (conv1): Conv2d(64, 64, kernel_size=(3, 3), stride=(1, 1), padding=(1, 1), bias=False)\n",
       "      (bn1): BatchNorm2d(64, eps=1e-05, momentum=0.1, affine=True, track_running_stats=True)\n",
       "      (relu): ReLU(inplace=True)\n",
       "      (conv2): Conv2d(64, 64, kernel_size=(3, 3), stride=(1, 1), padding=(1, 1), bias=False)\n",
       "      (bn2): BatchNorm2d(64, eps=1e-05, momentum=0.1, affine=True, track_running_stats=True)\n",
       "    )\n",
       "    (1): BasicBlock(\n",
       "      (conv1): Conv2d(64, 64, kernel_size=(3, 3), stride=(1, 1), padding=(1, 1), bias=False)\n",
       "      (bn1): BatchNorm2d(64, eps=1e-05, momentum=0.1, affine=True, track_running_stats=True)\n",
       "      (relu): ReLU(inplace=True)\n",
       "      (conv2): Conv2d(64, 64, kernel_size=(3, 3), stride=(1, 1), padding=(1, 1), bias=False)\n",
       "      (bn2): BatchNorm2d(64, eps=1e-05, momentum=0.1, affine=True, track_running_stats=True)\n",
       "    )\n",
       "  )\n",
       "  (layer2): Sequential(\n",
       "    (0): BasicBlock(\n",
       "      (conv1): Conv2d(64, 128, kernel_size=(3, 3), stride=(2, 2), padding=(1, 1), bias=False)\n",
       "      (bn1): BatchNorm2d(128, eps=1e-05, momentum=0.1, affine=True, track_running_stats=True)\n",
       "      (relu): ReLU(inplace=True)\n",
       "      (conv2): Conv2d(128, 128, kernel_size=(3, 3), stride=(1, 1), padding=(1, 1), bias=False)\n",
       "      (bn2): BatchNorm2d(128, eps=1e-05, momentum=0.1, affine=True, track_running_stats=True)\n",
       "      (downsample): Sequential(\n",
       "        (0): Conv2d(64, 128, kernel_size=(1, 1), stride=(2, 2), bias=False)\n",
       "        (1): BatchNorm2d(128, eps=1e-05, momentum=0.1, affine=True, track_running_stats=True)\n",
       "      )\n",
       "    )\n",
       "    (1): BasicBlock(\n",
       "      (conv1): Conv2d(128, 128, kernel_size=(3, 3), stride=(1, 1), padding=(1, 1), bias=False)\n",
       "      (bn1): BatchNorm2d(128, eps=1e-05, momentum=0.1, affine=True, track_running_stats=True)\n",
       "      (relu): ReLU(inplace=True)\n",
       "      (conv2): Conv2d(128, 128, kernel_size=(3, 3), stride=(1, 1), padding=(1, 1), bias=False)\n",
       "      (bn2): BatchNorm2d(128, eps=1e-05, momentum=0.1, affine=True, track_running_stats=True)\n",
       "    )\n",
       "  )\n",
       "  (layer3): Sequential(\n",
       "    (0): BasicBlock(\n",
       "      (conv1): Conv2d(128, 256, kernel_size=(3, 3), stride=(2, 2), padding=(1, 1), bias=False)\n",
       "      (bn1): BatchNorm2d(256, eps=1e-05, momentum=0.1, affine=True, track_running_stats=True)\n",
       "      (relu): ReLU(inplace=True)\n",
       "      (conv2): Conv2d(256, 256, kernel_size=(3, 3), stride=(1, 1), padding=(1, 1), bias=False)\n",
       "      (bn2): BatchNorm2d(256, eps=1e-05, momentum=0.1, affine=True, track_running_stats=True)\n",
       "      (downsample): Sequential(\n",
       "        (0): Conv2d(128, 256, kernel_size=(1, 1), stride=(2, 2), bias=False)\n",
       "        (1): BatchNorm2d(256, eps=1e-05, momentum=0.1, affine=True, track_running_stats=True)\n",
       "      )\n",
       "    )\n",
       "    (1): BasicBlock(\n",
       "      (conv1): Conv2d(256, 256, kernel_size=(3, 3), stride=(1, 1), padding=(1, 1), bias=False)\n",
       "      (bn1): BatchNorm2d(256, eps=1e-05, momentum=0.1, affine=True, track_running_stats=True)\n",
       "      (relu): ReLU(inplace=True)\n",
       "      (conv2): Conv2d(256, 256, kernel_size=(3, 3), stride=(1, 1), padding=(1, 1), bias=False)\n",
       "      (bn2): BatchNorm2d(256, eps=1e-05, momentum=0.1, affine=True, track_running_stats=True)\n",
       "    )\n",
       "  )\n",
       "  (layer4): Sequential(\n",
       "    (0): BasicBlock(\n",
       "      (conv1): Conv2d(256, 512, kernel_size=(3, 3), stride=(2, 2), padding=(1, 1), bias=False)\n",
       "      (bn1): BatchNorm2d(512, eps=1e-05, momentum=0.1, affine=True, track_running_stats=True)\n",
       "      (relu): ReLU(inplace=True)\n",
       "      (conv2): Conv2d(512, 512, kernel_size=(3, 3), stride=(1, 1), padding=(1, 1), bias=False)\n",
       "      (bn2): BatchNorm2d(512, eps=1e-05, momentum=0.1, affine=True, track_running_stats=True)\n",
       "      (downsample): Sequential(\n",
       "        (0): Conv2d(256, 512, kernel_size=(1, 1), stride=(2, 2), bias=False)\n",
       "        (1): BatchNorm2d(512, eps=1e-05, momentum=0.1, affine=True, track_running_stats=True)\n",
       "      )\n",
       "    )\n",
       "    (1): BasicBlock(\n",
       "      (conv1): Conv2d(512, 512, kernel_size=(3, 3), stride=(1, 1), padding=(1, 1), bias=False)\n",
       "      (bn1): BatchNorm2d(512, eps=1e-05, momentum=0.1, affine=True, track_running_stats=True)\n",
       "      (relu): ReLU(inplace=True)\n",
       "      (conv2): Conv2d(512, 512, kernel_size=(3, 3), stride=(1, 1), padding=(1, 1), bias=False)\n",
       "      (bn2): BatchNorm2d(512, eps=1e-05, momentum=0.1, affine=True, track_running_stats=True)\n",
       "    )\n",
       "  )\n",
       "  (avgpool): AdaptiveAvgPool2d(output_size=(1, 1))\n",
       "  (fc): Linear(in_features=512, out_features=1000, bias=True)\n",
       ")"
      ]
     },
     "execution_count": 26,
     "metadata": {},
     "output_type": "execute_result"
    }
   ],
   "source": [
    "# Set model to evaluation mode\n",
    "model.eval()"
   ]
  },
  {
   "cell_type": "code",
   "execution_count": 27,
   "metadata": {},
   "outputs": [
    {
     "name": "stderr",
     "output_type": "stream",
     "text": [
      "/usr/local/lib/python3.7/site-packages/torchvision/transforms/transforms.py:219: UserWarning: The use of the transforms.Scale transform is deprecated, please use transforms.Resize instead.\n",
      "  warnings.warn(\"The use of the transforms.Scale transform is deprecated, \" +\n"
     ]
    }
   ],
   "source": [
    "scaler = transforms.Scale((224, 224))\n",
    "normalize = transforms.Normalize(mean=[0.485, 0.456, 0.406],\n",
    "                                 std=[0.229, 0.224, 0.225])\n",
    "to_tensor = transforms.ToTensor()"
   ]
  },
  {
   "cell_type": "code",
   "execution_count": 33,
   "metadata": {},
   "outputs": [],
   "source": [
    "def get_vector(image_name):\n",
    "    # 1. Load the image with Pillow library\n",
    "    img = Image.open(image_name)\n",
    "    # 2. Create a PyTorch Variable with the transformed image\n",
    "    t_img = Variable(normalize(to_tensor(scaler(img))).unsqueeze(0))\n",
    "    # 3. Create a vector of zeros that will hold our feature vector\n",
    "    #    The 'avgpool' layer has an output size of 512\n",
    "    my_embedding = torch.zeros(512)\n",
    "    # 4. Define a function that will copy the output of a layer\n",
    "    def copy_data(m, i, o):\n",
    "        my_embedding.copy_(o.data)\n",
    "    # 5. Attach that function to our selected layer\n",
    "    h = layer.register_forward_hook(copy_data)\n",
    "    # 6. Run the model on our transformed image\n",
    "    model(t_img)\n",
    "    # 7. Detach our copy function from the layer\n",
    "    h.remove()\n",
    "    # 8. Return the feature vector\n",
    "    return my_embedding"
   ]
  },
  {
   "cell_type": "code",
   "execution_count": 5,
   "metadata": {
    "scrolled": true
   },
   "outputs": [],
   "source": [
    "pic_one = \"/Users/yak/Downloads/cat.jpg\""
   ]
  },
  {
   "cell_type": "code",
   "execution_count": 7,
   "metadata": {},
   "outputs": [],
   "source": [
    "from img2vec_pytorch import Img2Vec\n",
    "from PIL import Image\n",
    "\n",
    "# Initialize Img2Vec with GPU\n",
    "img2vec = Img2Vec(cuda=False)\n",
    "\n",
    "# Read in an image\n",
    "img = Image.open(pic_one)\n",
    "# Get a vector from img2vec, returned as a torch FloatTensor\n",
    "vec = img2vec.get_vec(img, tensor=True)"
   ]
  },
  {
   "cell_type": "code",
   "execution_count": 9,
   "metadata": {},
   "outputs": [
    {
     "data": {
      "text/plain": [
       "array([1.22520048e-02, 9.86658216e-01, 1.03898764e+00, 7.76085675e-01,\n",
       "       1.41603634e-01, 1.37314022e-01, 1.36463687e-01, 1.28197983e-01,\n",
       "       1.07222557e+00, 3.80179167e-01, 2.68474007e+00, 7.83414483e-01,\n",
       "       3.09984058e-01, 2.66830057e-01, 3.17809701e-01, 6.26104951e-01,\n",
       "       1.65388152e-01, 3.20775092e-01, 9.52662453e-02, 1.15576494e+00,\n",
       "       9.91614878e-01, 1.36325228e+00, 4.20552820e-01, 1.37864244e+00,\n",
       "       3.52820337e-01, 3.81926566e-01, 1.34898394e-01, 5.45089543e-01,\n",
       "       1.58865616e-01, 4.62482184e-01, 1.94254160e-01, 8.24227333e-02,\n",
       "       8.02269757e-01, 1.06790155e-01, 1.24505557e-01, 2.03673169e-01,\n",
       "       7.87790954e-01, 2.14767724e-01, 1.16431403e+00, 5.23912251e-01,\n",
       "       2.61919200e-01, 2.22309500e-01, 2.21315444e-01, 8.43661547e-01,\n",
       "       1.16666329e+00, 2.85595041e-02, 9.07177269e-01, 2.66846013e+00,\n",
       "       6.39875829e-01, 1.32322454e+00, 1.99460879e-01, 6.62143767e-01,\n",
       "       8.75031590e-01, 3.35866332e-01, 9.05564129e-01, 1.33878314e+00,\n",
       "       3.27728577e-02, 1.42197227e+00, 2.66069442e-01, 2.46479154e-01,\n",
       "       2.91096479e-01, 1.16720343e+00, 5.93615174e-01, 3.85397494e-01,\n",
       "       1.48385537e+00, 8.33898246e-01, 2.30832726e-01, 3.48145664e-01,\n",
       "       2.37219834e+00, 6.40797392e-02, 1.35631347e+00, 4.80190426e-01,\n",
       "       1.07391002e-02, 6.25126719e-01, 2.21052632e-01, 7.53189325e-01,\n",
       "       1.20674872e+00, 5.39009392e-01, 1.42273977e-01, 4.90520746e-01,\n",
       "       1.23760962e+00, 2.09597826e+00, 1.06910154e-01, 7.03030229e-01,\n",
       "       1.47569925e-01, 2.82669663e-01, 5.41715622e-01, 4.82656024e-02,\n",
       "       8.32871497e-01, 1.44348943e+00, 5.23674786e-01, 2.40471344e-02,\n",
       "       3.29781659e-02, 5.42000413e-01, 1.57258525e-01, 1.30414462e+00,\n",
       "       2.12877274e+00, 2.95530558e-01, 4.33893323e-01, 1.76122928e+00,\n",
       "       3.39012802e-01, 4.39000219e-01, 2.52495855e-01, 1.80342734e-01,\n",
       "       1.64815277e-01, 2.98857838e-01, 1.04906583e+00, 4.71349299e-01,\n",
       "       1.10832179e+00, 6.45549119e-01, 2.75884867e-01, 3.53124619e-01,\n",
       "       2.20583618e-01, 1.19906223e+00, 1.56528667e-01, 5.70510805e-01,\n",
       "       3.32716107e-01, 2.65427566e+00, 6.56058714e-02, 4.05708216e-02,\n",
       "       6.72801793e-01, 1.27928841e+00, 1.18923569e+00, 1.92112461e-01,\n",
       "       1.17847480e-01, 2.06009150e+00, 1.88763827e-01, 3.25847208e-01,\n",
       "       1.22113335e+00, 1.94675457e-02, 1.09267318e+00, 7.69592822e-02,\n",
       "       1.22033544e-01, 1.10209095e+00, 6.09060645e-01, 7.72550479e-02,\n",
       "       2.58573771e-01, 7.74252594e-01, 1.30862069e+00, 1.20122671e+00,\n",
       "       7.83899128e-01, 1.23788285e+00, 9.93148506e-01, 8.65008831e-01,\n",
       "       3.50161910e-01, 2.79222339e-01, 2.03366780e+00, 5.42448521e-01,\n",
       "       6.47912443e-01, 7.83209443e-01, 3.24174643e-01, 2.01075941e-01,\n",
       "       6.80316389e-01, 3.73588949e-01, 9.97181773e-01, 7.34820902e-01,\n",
       "       4.13698196e+00, 2.26646692e-01, 4.23026055e-01, 2.32586265e-01,\n",
       "       6.13038659e-01, 8.60788822e-01, 2.49231383e-01, 3.58141208e+00,\n",
       "       2.04078287e-01, 4.45242137e-01, 2.42477939e-01, 3.78546071e+00,\n",
       "       4.26001102e-01, 6.35690629e-01, 0.00000000e+00, 1.10007465e+00,\n",
       "       5.32919228e-01, 4.17754889e-01, 4.23461795e-01, 9.95091558e-01,\n",
       "       3.83533478e-01, 9.35219586e-01, 6.76434100e-01, 2.53247070e+00,\n",
       "       1.30925381e+00, 7.17548966e-01, 6.79833174e-01, 1.44385314e+00,\n",
       "       2.82191336e-01, 9.22810435e-01, 1.27828449e-01, 5.60063660e-01,\n",
       "       6.33993566e-01, 2.15494537e+00, 1.73359513e-01, 1.84505939e+00,\n",
       "       1.16185081e+00, 4.04124111e-01, 1.67912638e+00, 1.92524210e-01,\n",
       "       3.05355787e-01, 9.15853858e-01, 1.32447624e+00, 5.21385908e-01,\n",
       "       1.21157050e+00, 1.28604388e+00, 1.26689005e+00, 2.94429839e-01,\n",
       "       4.42357808e-01, 6.76202914e-03, 1.64121926e+00, 6.33255318e-02,\n",
       "       4.51810420e-01, 4.51286107e-01, 1.74400266e-02, 1.37497589e-01,\n",
       "       1.75650299e-01, 7.21671045e-01, 2.12483549e+00, 7.61786476e-02,\n",
       "       2.15391666e-01, 3.77207026e-02, 2.17111602e-01, 5.48565030e-01,\n",
       "       3.76969248e-01, 8.15444067e-03, 1.06369212e-01, 7.13089287e-01,\n",
       "       1.35903740e+00, 3.55588174e+00, 5.44204652e-01, 1.29323870e-01,\n",
       "       3.57230037e-01, 1.16684234e+00, 1.30086827e+00, 4.65438999e-02,\n",
       "       5.09066395e-02, 1.78216267e+00, 2.37836540e-01, 1.08436927e-01,\n",
       "       9.96282458e-01, 1.99494433e+00, 4.77254272e-01, 1.06016934e+00,\n",
       "       5.82740843e-01, 6.58797979e-01, 7.63977319e-02, 5.58731407e-02,\n",
       "       2.55566573e+00, 2.65967548e-01, 1.45498013e+00, 3.54654551e-01,\n",
       "       3.19273651e-01, 2.47021630e-01, 5.23834705e-01, 3.22257847e-01,\n",
       "       7.05180049e-01, 3.15115750e-01, 6.85206413e-01, 9.33449805e-01,\n",
       "       6.70442879e-01, 3.39103043e-01, 1.20751369e+00, 1.01124547e-01,\n",
       "       4.58116502e-01, 5.50996244e-01, 6.91955268e-01, 6.52806103e-01,\n",
       "       3.75381052e-01, 2.37454152e+00, 1.52519017e-01, 1.78170788e+00,\n",
       "       1.89916933e+00, 1.66255817e-01, 2.55779684e-01, 2.30664253e-01,\n",
       "       1.33754992e+00, 5.21586314e-02, 1.00145839e-01, 4.19830590e-01,\n",
       "       3.24747205e-01, 5.38025498e-01, 1.03074573e-01, 9.88974050e-02,\n",
       "       7.95952380e-01, 9.65418696e-01, 1.17671180e+00, 1.09521776e-01,\n",
       "       5.52700579e-01, 6.87596947e-02, 1.99893251e-01, 2.10721448e-01,\n",
       "       7.36426935e-02, 9.14092585e-02, 1.46334827e+00, 2.26625368e-01,\n",
       "       4.11500901e-01, 1.47268200e+00, 1.91417739e-01, 6.94046170e-02,\n",
       "       1.61359951e-01, 4.69747573e-01, 3.19648504e+00, 7.43629754e-01,\n",
       "       9.96141016e-01, 1.87344301e+00, 4.95541245e-01, 2.09060025e+00,\n",
       "       4.54819471e-01, 1.26090854e-01, 1.07122138e-01, 7.73527503e-01,\n",
       "       1.13520265e+00, 3.19403291e+00, 1.08013761e+00, 1.44171238e+00,\n",
       "       3.71858954e-01, 6.46737695e-01, 1.18357968e+00, 5.94619572e-01,\n",
       "       8.63594770e-01, 8.12400043e-01, 1.69276804e-01, 8.91143620e-01,\n",
       "       1.02479696e+00, 3.53713185e-01, 1.56015360e+00, 3.64723980e-01,\n",
       "       6.05963171e-01, 5.31018257e-01, 1.87766159e+00, 6.73135668e-02,\n",
       "       2.10753188e-01, 5.98132312e-02, 2.92808890e-01, 2.21027493e-01,\n",
       "       8.20440724e-02, 4.54465836e-01, 1.66227961e+00, 3.88351202e-01,\n",
       "       5.21677077e-01, 1.48991138e-01, 5.04912101e-02, 3.34530473e-01,\n",
       "       9.92131159e-02, 8.50908995e-01, 1.02032781e+00, 5.81582785e-01,\n",
       "       9.77960408e-01, 1.32758832e+00, 7.13940263e-01, 3.52145731e-01,\n",
       "       7.44066656e-01, 7.25345790e-01, 1.66604245e+00, 4.00648475e-01,\n",
       "       2.22313121e-01, 3.92921478e-01, 8.37057978e-02, 3.95734042e-01,\n",
       "       1.34514093e-01, 5.95707357e-01, 3.55009586e-01, 3.39071244e-01,\n",
       "       8.88364136e-01, 4.18281943e-01, 3.20584148e-01, 1.09861004e+00,\n",
       "       2.32909322e+00, 4.49315995e-01, 2.94740140e-01, 1.81215852e-01,\n",
       "       2.05696225e+00, 1.05078125e+00, 1.48975521e-01, 8.46795142e-02,\n",
       "       1.06384385e+00, 4.40906793e-01, 5.11784136e-01, 4.54940766e-01,\n",
       "       8.23137403e-01, 3.58080059e-01, 3.58857989e-01, 9.44847018e-02,\n",
       "       3.87305319e-01, 3.82912934e-01, 1.82104409e+00, 1.19548571e+00,\n",
       "       9.04967338e-02, 1.42376876e+00, 7.76960254e-01, 7.85618067e-01,\n",
       "       3.71261537e-02, 6.01808250e-01, 1.89584300e-01, 4.67854321e-01,\n",
       "       7.02624083e-01, 4.65956867e-01, 5.46230733e-01, 1.56697482e-02,\n",
       "       7.41920888e-01, 1.15719104e+00, 2.98593235e+00, 6.30260289e-01,\n",
       "       1.36961985e+00, 1.81704625e-01, 9.25701678e-01, 1.69419736e-01,\n",
       "       1.77398396e+00, 5.55578649e-01, 8.46971333e-01, 5.02919674e-01,\n",
       "       1.12422860e+00, 2.46603951e-01, 8.03038716e-01, 1.40278685e+00,\n",
       "       9.47025537e-01, 1.25062436e-01, 5.38937926e-01, 1.19380403e+00,\n",
       "       2.15486169e+00, 2.04270303e-01, 2.62739927e-01, 1.35801554e+00,\n",
       "       6.42699480e-01, 1.55332640e-01, 3.33307058e-01, 1.08580358e-01,\n",
       "       1.37644160e+00, 3.34872752e-02, 1.06815167e-03, 3.38332027e-01,\n",
       "       2.91777253e-01, 2.13382855e-01, 2.06409216e-01, 6.50527596e-01,\n",
       "       1.38447690e+00, 1.25776781e-02, 5.03589153e-01, 8.16504180e-01,\n",
       "       1.42135724e-01, 8.49596977e-01, 4.08903927e-01, 4.86579239e-01,\n",
       "       1.44293511e+00, 6.76021636e-01, 4.29113746e-01, 1.05148304e+00,\n",
       "       3.14231128e-01, 8.18481982e-01, 1.82970190e+00, 1.08064270e+00,\n",
       "       4.09549415e-01, 8.66406202e-01, 5.54848194e-01, 7.74261504e-02,\n",
       "       4.06276077e-01, 7.46853113e-01, 2.97987401e-01, 4.40850288e-01,\n",
       "       1.45017135e+00, 1.27067626e-01, 1.69520211e+00, 1.50788617e+00,\n",
       "       1.24595493e-01, 3.25368977e+00, 1.44883156e+00, 1.78044987e+00,\n",
       "       9.81661677e-01, 1.48317277e+00, 4.72109139e-01, 3.63410741e-01,\n",
       "       1.61987460e+00, 3.34950387e-01, 1.05378318e+00, 3.47517490e-01,\n",
       "       6.21707797e-01, 5.89781776e-02, 1.58333153e-01, 2.41020083e-01,\n",
       "       2.55142510e-01, 6.14696681e-01, 2.33011931e-01, 3.91803980e-01,\n",
       "       7.67889857e-01, 4.12990451e-01, 9.36961696e-02, 4.54359949e-02,\n",
       "       2.10630059e+00, 9.62127596e-02, 3.55937541e-01, 3.00144732e-01,\n",
       "       2.65515864e-01, 7.99017131e-01, 7.16389537e-01, 3.06965160e+00,\n",
       "       1.84555754e-01, 1.46967375e+00, 8.52057561e-02, 8.87930766e-02,\n",
       "       1.19121563e+00, 4.55188006e-01, 0.00000000e+00, 8.39046240e-01,\n",
       "       6.36592090e-01, 7.17407703e-01, 1.69312572e+00, 5.80716193e-01,\n",
       "       3.21892440e-01, 7.38835335e-01, 8.13502729e-01, 1.26490963e+00,\n",
       "       1.87536824e+00, 1.19690967e+00, 3.04443896e-01, 1.33831009e-01],\n",
       "      dtype=float32)"
      ]
     },
     "execution_count": 9,
     "metadata": {},
     "output_type": "execute_result"
    }
   ],
   "source": [
    "np.array(vec).squeeze()"
   ]
  }
 ],
 "metadata": {
  "kernelspec": {
   "display_name": "PyCharm (vb_inter)",
   "language": "python",
   "name": "pycharm-2ce1475a"
  },
  "language_info": {
   "codemirror_mode": {
    "name": "ipython",
    "version": 3
   },
   "file_extension": ".py",
   "mimetype": "text/x-python",
   "name": "python",
   "nbconvert_exporter": "python",
   "pygments_lexer": "ipython3",
   "version": "3.7.6"
  },
  "pycharm": {
   "stem_cell": {
    "cell_type": "raw",
    "metadata": {
     "collapsed": false
    },
    "source": []
   }
  }
 },
 "nbformat": 4,
 "nbformat_minor": 1
}
