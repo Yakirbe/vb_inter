{
 "cells": [
  {
   "cell_type": "code",
   "execution_count": 3,
   "metadata": {
    "pycharm": {
     "is_executing": false
    }
   },
   "outputs": [],
   "source": [
    "import sys\n",
    "sys.path.append(\"../../machine_learning_engineer/\")\n",
    "from inference_code import inference_image\n",
    "from tensorflow import keras\n",
    "import pandas as pd\n",
    "import matplotlib.pyplot as plt\n",
    "import glob2\n",
    "from datetime import datetime"
   ]
  },
  {
   "cell_type": "code",
   "execution_count": 4,
   "metadata": {},
   "outputs": [
    {
     "ename": "NameError",
     "evalue": "name 'im_fn' is not defined",
     "output_type": "error",
     "traceback": [
      "\u001b[0;31m---------------------------------------------------------------------------\u001b[0m",
      "\u001b[0;31mNameError\u001b[0m                                 Traceback (most recent call last)",
      "\u001b[0;32m<ipython-input-4-2934d7459417>\u001b[0m in \u001b[0;36m<module>\u001b[0;34m\u001b[0m\n\u001b[0;32m----> 1\u001b[0;31m \u001b[0mplt\u001b[0m\u001b[0;34m.\u001b[0m\u001b[0mimshow\u001b[0m\u001b[0;34m(\u001b[0m\u001b[0mplt\u001b[0m\u001b[0;34m.\u001b[0m\u001b[0mimread\u001b[0m\u001b[0;34m(\u001b[0m\u001b[0mim_fn\u001b[0m\u001b[0;34m)\u001b[0m\u001b[0;34m)\u001b[0m\u001b[0;34m\u001b[0m\u001b[0;34m\u001b[0m\u001b[0m\n\u001b[0m\u001b[1;32m      2\u001b[0m \u001b[0mplt\u001b[0m\u001b[0;34m.\u001b[0m\u001b[0maxis\u001b[0m\u001b[0;34m(\u001b[0m\u001b[0;34m\"off\"\u001b[0m\u001b[0;34m)\u001b[0m   \u001b[0;31m# turns off axes\u001b[0m\u001b[0;34m\u001b[0m\u001b[0;34m\u001b[0m\u001b[0m\n\u001b[1;32m      3\u001b[0m \u001b[0mplt\u001b[0m\u001b[0;34m.\u001b[0m\u001b[0maxis\u001b[0m\u001b[0;34m(\u001b[0m\u001b[0;34m\"tight\"\u001b[0m\u001b[0;34m)\u001b[0m  \u001b[0;31m# gets rid of white border\u001b[0m\u001b[0;34m\u001b[0m\u001b[0;34m\u001b[0m\u001b[0m\n\u001b[1;32m      4\u001b[0m \u001b[0mplt\u001b[0m\u001b[0;34m.\u001b[0m\u001b[0maxis\u001b[0m\u001b[0;34m(\u001b[0m\u001b[0;34m\"image\"\u001b[0m\u001b[0;34m)\u001b[0m  \u001b[0;31m# square up the image instead of filling the \"figure\" space\u001b[0m\u001b[0;34m\u001b[0m\u001b[0;34m\u001b[0m\u001b[0m\n\u001b[1;32m      5\u001b[0m \u001b[0mplt\u001b[0m\u001b[0;34m.\u001b[0m\u001b[0mshow\u001b[0m\u001b[0;34m(\u001b[0m\u001b[0;34m)\u001b[0m\u001b[0;34m\u001b[0m\u001b[0;34m\u001b[0m\u001b[0m\n",
      "\u001b[0;31mNameError\u001b[0m: name 'im_fn' is not defined"
     ]
    }
   ],
   "source": [
    "plt.imshow(plt.imread(im_fn))\n",
    "plt.axis(\"off\")   # turns off axes\n",
    "plt.axis(\"tight\")  # gets rid of white border\n",
    "plt.axis(\"image\")  # square up the image instead of filling the \"figure\" space\n",
    "plt.show()"
   ]
  },
  {
   "cell_type": "code",
   "execution_count": 5,
   "metadata": {},
   "outputs": [],
   "source": [
    "df = pd.DataFrame(columns=[\"timestamp\", \"image_path\", \"result\"])"
   ]
  },
  {
   "cell_type": "code",
   "execution_count": 6,
   "metadata": {},
   "outputs": [
    {
     "name": "stdout",
     "output_type": "stream",
     "text": [
      "Predicted: [('n06596364', 'comic_book', 0.54936326), ('n04418357', 'theater_curtain', 0.08670117), ('n04296562', 'stage', 0.055190615)]\n",
      "Predicted: [('n06596364', 'comic_book', 0.5075848), ('n04418357', 'theater_curtain', 0.08698788), ('n04296562', 'stage', 0.045813385)]\n",
      "Predicted: [('n06596364', 'comic_book', 0.45129216), ('n04418357', 'theater_curtain', 0.10236627), ('n04296562', 'stage', 0.08434733)]\n",
      "Predicted: [('n04591157', 'Windsor_tie', 0.447304), ('n06359193', 'web_site', 0.15703584), ('n04350905', 'suit', 0.11381341)]\n",
      "Predicted: [('n09835506', 'ballplayer', 0.71084183), ('n04149813', 'scoreboard', 0.14362817), ('n03888605', 'parallel_bars', 0.049674924)]\n",
      "Predicted: [('n03877472', 'pajama', 0.4481934), ('n03617480', 'kimono', 0.11379056), ('n03595614', 'jersey', 0.02367495)]\n",
      "Predicted: [('n04296562', 'stage', 0.40079135), ('n03535780', 'horizontal_bar', 0.09241271), ('n03976657', 'pole', 0.09178454)]\n",
      "Predicted: [('n06596364', 'comic_book', 0.5315613), ('n04418357', 'theater_curtain', 0.10405654), ('n04296562', 'stage', 0.052176315)]\n",
      "Predicted: [('n04149813', 'scoreboard', 0.3929765), ('n09835506', 'ballplayer', 0.14543764), ('n04540053', 'volleyball', 0.09267044)]\n",
      "Predicted: [('n04254680', 'soccer_ball', 0.21605541), ('n03888257', 'parachute', 0.15569903), ('n04456115', 'torch', 0.13946393)]\n"
     ]
    }
   ],
   "source": [
    "imlist = glob2.glob(\"../../machine_learning_engineer/raw_images/*.jpg\")\n",
    "for im_fn in imlist[:10]:\n",
    "    model = keras.applications.resnet50.ResNet50(weights='imagenet') \n",
    "    res = inference_image(im_fn, model)\n",
    "    df = df.append(pd.Series({\"timestamp\":datetime.now(), \"image_path\":im_fn, \"result\":res}), ignore_index=True)"
   ]
  },
  {
   "cell_type": "code",
   "execution_count": 37,
   "metadata": {},
   "outputs": [],
   "source": [
    "df.to_csv(\"../../machiresults_example.csv\")"
   ]
  }
 ],
 "metadata": {
  "kernelspec": {
   "display_name": "Python 3",
   "language": "python",
   "name": "python3"
  },
  "language_info": {
   "codemirror_mode": {
    "name": "ipython",
    "version": 3
   },
   "file_extension": ".py",
   "mimetype": "text/x-python",
   "name": "python",
   "nbconvert_exporter": "python",
   "pygments_lexer": "ipython3",
   "version": "3.7.6"
  }
 },
 "nbformat": 4,
 "nbformat_minor": 4
}
